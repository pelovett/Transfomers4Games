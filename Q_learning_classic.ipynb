{
  "nbformat": 4,
  "nbformat_minor": 0,
  "metadata": {
    "kernelspec": {
      "display_name": "Python 3",
      "language": "python",
      "name": "python3"
    },
    "language_info": {
      "codemirror_mode": {
        "name": "ipython",
        "version": 3
      },
      "file_extension": ".py",
      "mimetype": "text/x-python",
      "name": "python",
      "nbconvert_exporter": "python",
      "pygments_lexer": "ipython3",
      "version": "3.6.6"
    },
    "colab": {
      "name": "Q_learning_classic.ipynb",
      "provenance": [],
      "collapsed_sections": [],
      "toc_visible": true
    },
    "accelerator": "GPU"
  },
  "cells": [
    {
      "cell_type": "code",
      "metadata": {
        "id": "vmSjagWGegWC",
        "colab_type": "code",
        "colab": {}
      },
      "source": [
        "  %matplotlib inline"
      ],
      "execution_count": 0,
      "outputs": []
    },
    {
      "cell_type": "markdown",
      "metadata": {
        "id": "KtoggDUNegWH",
        "colab_type": "text"
      },
      "source": [
        "\n",
        "Reinforcement Learning (DQN) Tutorial\n",
        "=====================================\n",
        "**Author**: `Adam Paszke <https://github.com/apaszke>`_\n",
        "\n",
        "\n",
        "This tutorial shows how to use PyTorch to train a Deep Q Learning (DQN) agent\n",
        "on the CartPole-v0 task from the `OpenAI Gym <https://gym.openai.com/>`__.\n",
        "\n",
        "**Task**\n",
        "\n",
        "The agent has to decide between two actions - moving the cart left or\n",
        "right - so that the pole attached to it stays upright. You can find an\n",
        "official leaderboard with various algorithms and visualizations at the\n",
        "`Gym website <https://gym.openai.com/envs/CartPole-v0>`__.\n",
        "\n",
        ".. figure:: /_static/img/cartpole.gif\n",
        "   :alt: cartpole\n",
        "\n",
        "   cartpole\n",
        "\n",
        "As the agent observes the current state of the environment and chooses\n",
        "an action, the environment *transitions* to a new state, and also\n",
        "returns a reward that indicates the consequences of the action. In this\n",
        "task, the environment terminates if the pole falls over too far.\n",
        "\n",
        "The CartPole task is designed so that the inputs to the agent are 4 real\n",
        "values representing the environment state (position, velocity, etc.).\n",
        "However, neural networks can solve the task purely by looking at the\n",
        "scene, so we'll use a patch of the screen centered on the cart as an\n",
        "input. Because of this, our results aren't directly comparable to the\n",
        "ones from the official leaderboard - our task is much harder.\n",
        "Unfortunately this does slow down the training, because we have to\n",
        "render all the frames.\n",
        "\n",
        "Strictly speaking, we will present the state as the difference between\n",
        "the current screen patch and the previous one. This will allow the agent\n",
        "to take the velocity of the pole into account from one image.\n",
        "\n",
        "**Packages**\n",
        "\n",
        "\n",
        "First, let's import needed packages. Firstly, we need\n",
        "`gym <https://gym.openai.com/docs>`__ for the environment\n",
        "(Install using `pip install gym`).\n",
        "We'll also use the following from PyTorch:\n",
        "\n",
        "-  neural networks (``torch.nn``)\n",
        "-  optimization (``torch.optim``)\n",
        "-  automatic differentiation (``torch.autograd``)\n",
        "-  utilities for vision tasks (``torchvision`` - `a separate\n",
        "   package <https://github.com/pytorch/vision>`__).\n",
        "\n",
        "\n"
      ]
    },
    {
      "cell_type": "code",
      "metadata": {
        "id": "sDbKxKTeegWJ",
        "colab_type": "code",
        "colab": {}
      },
      "source": [
        "import gym\n",
        "import math\n",
        "import random\n",
        "import numpy as np\n",
        "import matplotlib\n",
        "import matplotlib.pyplot as plt\n",
        "from collections import namedtuple\n",
        "from itertools import count\n",
        "from PIL import Image\n",
        "\n",
        "import torch\n",
        "import torch.nn as nn\n",
        "import torch.optim as optim\n",
        "import torch.nn.functional as F\n",
        "import torchvision.transforms as T\n",
        "\n",
        "\n",
        "env = gym.make('CartPole-v0').unwrapped\n",
        "\n",
        "# set up matplotlib\n",
        "is_ipython = 'inline' in matplotlib.get_backend()\n",
        "if is_ipython:\n",
        "    from IPython import display\n",
        "\n",
        "plt.ion()\n",
        "\n",
        "# if gpu is to be used\n",
        "device = torch.device(\"cuda\" if torch.cuda.is_available() else \"cpu\")"
      ],
      "execution_count": 0,
      "outputs": []
    },
    {
      "cell_type": "markdown",
      "metadata": {
        "id": "fJLFP69_egWQ",
        "colab_type": "text"
      },
      "source": [
        "Replay Memory\n",
        "-------------\n",
        "\n",
        "We'll be using experience replay memory for training our DQN. It stores\n",
        "the transitions that the agent observes, allowing us to reuse this data\n",
        "later. By sampling from it randomly, the transitions that build up a\n",
        "batch are decorrelated. It has been shown that this greatly stabilizes\n",
        "and improves the DQN training procedure.\n",
        "\n",
        "For this, we're going to need two classses:\n",
        "\n",
        "-  ``Transition`` - a named tuple representing a single transition in\n",
        "   our environment\n",
        "-  ``ReplayMemory`` - a cyclic buffer of bounded size that holds the\n",
        "   transitions observed recently. It also implements a ``.sample()``\n",
        "   method for selecting a random batch of transitions for training.\n",
        "\n",
        "\n"
      ]
    },
    {
      "cell_type": "code",
      "metadata": {
        "id": "3nmdMsdxegWR",
        "colab_type": "code",
        "colab": {}
      },
      "source": [
        "Transition = namedtuple('Transition',\n",
        "                        ('state', 'action', 'next_state', 'reward'))\n",
        "\n",
        "\n",
        "class ReplayMemory(object):\n",
        "\n",
        "    def __init__(self, capacity):\n",
        "        self.capacity = capacity\n",
        "        self.memory = []\n",
        "        self.position = 0\n",
        "\n",
        "    def push(self, *args):\n",
        "        \"\"\"Saves a transition.\"\"\"\n",
        "        if len(self.memory) < self.capacity:\n",
        "            self.memory.append(None)\n",
        "        self.memory[self.position] = Transition(*args)\n",
        "        self.position = (self.position + 1) % self.capacity\n",
        "\n",
        "    def sample(self, batch_size):\n",
        "        return random.sample(self.memory, batch_size)\n",
        "\n",
        "    def __len__(self):\n",
        "        return len(self.memory)"
      ],
      "execution_count": 0,
      "outputs": []
    },
    {
      "cell_type": "markdown",
      "metadata": {
        "id": "0dXQTZETegWW",
        "colab_type": "text"
      },
      "source": [
        "Now, let's define our model. But first, let quickly recap what a DQN is.\n",
        "\n",
        "DQN algorithm\n",
        "-------------\n",
        "\n",
        "Our environment is deterministic, so all equations presented here are\n",
        "also formulated deterministically for the sake of simplicity. In the\n",
        "reinforcement learning literature, they would also contain expectations\n",
        "over stochastic transitions in the environment.\n",
        "\n",
        "Our aim will be to train a policy that tries to maximize the discounted,\n",
        "cumulative reward\n",
        "$R_{t_0} = \\sum_{t=t_0}^{\\infty} \\gamma^{t - t_0} r_t$, where\n",
        "$R_{t_0}$ is also known as the *return*. The discount,\n",
        "$\\gamma$, should be a constant between $0$ and $1$\n",
        "that ensures the sum converges. It makes rewards from the uncertain far\n",
        "future less important for our agent than the ones in the near future\n",
        "that it can be fairly confident about.\n",
        "\n",
        "The main idea behind Q-learning is that if we had a function\n",
        "$Q^*: State \\times Action \\rightarrow \\mathbb{R}$, that could tell\n",
        "us what our return would be, if we were to take an action in a given\n",
        "state, then we could easily construct a policy that maximizes our\n",
        "rewards:\n",
        "\n",
        "\\begin{align}\\pi^*(s) = \\arg\\!\\max_a \\ Q^*(s, a)\\end{align}\n",
        "\n",
        "However, we don't know everything about the world, so we don't have\n",
        "access to $Q^*$. But, since neural networks are universal function\n",
        "approximators, we can simply create one and train it to resemble\n",
        "$Q^*$.\n",
        "\n",
        "For our training update rule, we'll use a fact that every $Q$\n",
        "function for some policy obeys the Bellman equation:\n",
        "\n",
        "\\begin{align}Q^{\\pi}(s, a) = r + \\gamma Q^{\\pi}(s', \\pi(s'))\\end{align}\n",
        "\n",
        "The difference between the two sides of the equality is known as the\n",
        "temporal difference error, $\\delta$:\n",
        "\n",
        "\\begin{align}\\delta = Q(s, a) - (r + \\gamma \\max_a Q(s', a))\\end{align}\n",
        "\n",
        "To minimise this error, we will use the `Huber\n",
        "loss <https://en.wikipedia.org/wiki/Huber_loss>`__. The Huber loss acts\n",
        "like the mean squared error when the error is small, but like the mean\n",
        "absolute error when the error is large - this makes it more robust to\n",
        "outliers when the estimates of $Q$ are very noisy. We calculate\n",
        "this over a batch of transitions, $B$, sampled from the replay\n",
        "memory:\n",
        "\n",
        "\\begin{align}\\mathcal{L} = \\frac{1}{|B|}\\sum_{(s, a, s', r) \\ \\in \\ B} \\mathcal{L}(\\delta)\\end{align}\n",
        "\n",
        "\\begin{align}\\text{where} \\quad \\mathcal{L}(\\delta) = \\begin{cases}\n",
        "     \\frac{1}{2}{\\delta^2}  & \\text{for } |\\delta| \\le 1, \\\\\n",
        "     |\\delta| - \\frac{1}{2} & \\text{otherwise.}\n",
        "   \\end{cases}\\end{align}\n",
        "\n",
        "Q-network\n",
        "^^^^^^^^^\n",
        "\n",
        "Our model will be a convolutional neural network that takes in the\n",
        "difference between the current and previous screen patches. It has two\n",
        "outputs, representing $Q(s, \\mathrm{left})$ and\n",
        "$Q(s, \\mathrm{right})$ (where $s$ is the input to the\n",
        "network). In effect, the network is trying to predict the *quality* of\n",
        "taking each action given the current input.\n",
        "\n",
        "\n"
      ]
    },
    {
      "cell_type": "code",
      "metadata": {
        "id": "Oy9t2rqlegWX",
        "colab_type": "code",
        "colab": {}
      },
      "source": [
        "class DQN(nn.Module):\n",
        "\n",
        "    def __init__(self, input_size):\n",
        "        super(DQN, self).__init__()\n",
        "        self.lin1 = nn.Linear(input_size, 100).double()\n",
        "        self.bn1 = nn.LayerNorm(100).double()\n",
        "        self.head = nn.Linear(100, env.action_space.n).double()\n",
        "\n",
        "    def forward(self, x):\n",
        "        x = self.lin1(x)\n",
        "        x = self.bn1(x)\n",
        "        x = F.relu(x)\n",
        "        return self.head(x)"
      ],
      "execution_count": 0,
      "outputs": []
    },
    {
      "cell_type": "markdown",
      "metadata": {
        "id": "oyZATcSPegWh",
        "colab_type": "text"
      },
      "source": [
        "Training\n",
        "--------\n",
        "\n",
        "Hyperparameters and utilities\n",
        "^^^^^^^^^^^^^^^^^^^^^^^^^^^^^\n",
        "This cell instantiates our model and its optimizer, and defines some\n",
        "utilities:\n",
        "\n",
        "-  ``select_action`` - will select an action accordingly to an epsilon\n",
        "   greedy policy. Simply put, we'll sometimes use our model for choosing\n",
        "   the action, and sometimes we'll just sample one uniformly. The\n",
        "   probability of choosing a random action will start at ``EPS_START``\n",
        "   and will decay exponentially towards ``EPS_END``. ``EPS_DECAY``\n",
        "   controls the rate of the decay.\n",
        "-  ``plot_durations`` - a helper for plotting the durations of episodes,\n",
        "   along with an average over the last 100 episodes (the measure used in\n",
        "   the official evaluations). The plot will be underneath the cell\n",
        "   containing the main training loop, and will update after every\n",
        "   episode.\n",
        "\n",
        "\n"
      ]
    },
    {
      "cell_type": "code",
      "metadata": {
        "id": "uBJh0e0_egWi",
        "colab_type": "code",
        "colab": {}
      },
      "source": [
        "BATCH_SIZE = 128\n",
        "GAMMA = 0.999\n",
        "EPS_START = 0.9\n",
        "EPS_END = 0.05\n",
        "EPS_DECAY = 200\n",
        "TARGET_UPDATE = 10\n",
        "\n",
        "policy_net = DQN(env.observation_space.shape[0]).to(device)\n",
        "target_net = DQN(env.observation_space.shape[0]).to(device)\n",
        "target_net.load_state_dict(policy_net.state_dict())\n",
        "target_net.eval()\n",
        "\n",
        "optimizer = optim.RMSprop(policy_net.parameters())\n",
        "memory = ReplayMemory(1000000)\n",
        "\n",
        "\n",
        "steps_done = 0\n",
        "\n",
        "\n",
        "def select_action(state):\n",
        "    global steps_done\n",
        "    sample = random.random()\n",
        "    eps_threshold = EPS_END + (EPS_START - EPS_END) * \\\n",
        "        math.exp(-1. * steps_done / EPS_DECAY)\n",
        "    steps_done += 1\n",
        "    if sample > eps_threshold:\n",
        "        with torch.no_grad():\n",
        "            temp = policy_net(state)\n",
        "            temp = temp.sum(dim=0)\n",
        "            return temp.max(0)[1].view(1, 1)\n",
        "    else:\n",
        "        return torch.tensor([[random.randrange(2)]], device=device, dtype=torch.long)\n",
        "\n",
        "\n",
        "episode_durations = []\n",
        "episode_rewards = []\n",
        "\n",
        "def plot_durations():\n",
        "    if len(episode_durations) >= 100:\n",
        "      print(np.mean(episode_durations[-99:]))\n",
        "    else:\n",
        "      print(np.mean(episode_durations))\n",
        "\n",
        "def plot_rewards():\n",
        "    if len(episode_rewards) >= 100:\n",
        "      return (np.mean(episode_rewards[-99:]))\n",
        "    else:\n",
        "      return (np.mean(episode_rewards))"
      ],
      "execution_count": 0,
      "outputs": []
    },
    {
      "cell_type": "markdown",
      "metadata": {
        "id": "DZty7ewoegWo",
        "colab_type": "text"
      },
      "source": [
        "Training loop\n",
        "^^^^^^^^^^^^^\n",
        "\n",
        "Finally, the code for training our model.\n",
        "\n",
        "Here, you can find an ``optimize_model`` function that performs a\n",
        "single step of the optimization. It first samples a batch, concatenates\n",
        "all the tensors into a single one, computes $Q(s_t, a_t)$ and\n",
        "$V(s_{t+1}) = \\max_a Q(s_{t+1}, a)$, and combines them into our\n",
        "loss. By defition we set $V(s) = 0$ if $s$ is a terminal\n",
        "state. We also use a target network to compute $V(s_{t+1})$ for\n",
        "added stability. The target network has its weights kept frozen most of\n",
        "the time, but is updated with the policy network's weights every so often.\n",
        "This is usually a set number of steps but we shall use episodes for\n",
        "simplicity.\n",
        "\n",
        "\n"
      ]
    },
    {
      "cell_type": "code",
      "metadata": {
        "id": "B4feFjFKegWr",
        "colab_type": "code",
        "colab": {}
      },
      "source": [
        "def optimize_model():\n",
        "    if len(memory) < BATCH_SIZE:\n",
        "        return\n",
        "    transitions = memory.sample(BATCH_SIZE)\n",
        "    # Transpose the batch (see http://stackoverflow.com/a/19343/3343043 for\n",
        "    # detailed explanation).\n",
        "    batch = Transition(*zip(*transitions))\n",
        "\n",
        "    # Compute a mask of non-final states and concatenate the batch elements\n",
        "    non_final_mask = torch.tensor(tuple(map(lambda s: s is not None,\n",
        "                                          batch.next_state)), device=device, dtype=torch.bool)\n",
        "    non_final_next_states = torch.cat([s for s in batch.next_state\n",
        "                                                if s is not None])\n",
        "    state_batch = torch.cat(batch.state)\n",
        "    action_batch = torch.cat(batch.action)\n",
        "    reward_batch = torch.cat(batch.reward)\n",
        "\n",
        "    # Compute Q(s_t, a) - the model computes Q(s_t), then we select the\n",
        "    # columns of actions taken\n",
        "    state_action_values = policy_net(state_batch).gather(1, action_batch)\n",
        "\n",
        "    # Compute V(s_{t+1}) for all next states.\n",
        "    next_state_values = torch.zeros(BATCH_SIZE, device=device, dtype=torch.double)\n",
        "    next_state_values[non_final_mask] = target_net(non_final_next_states).max(1)[0].detach()\n",
        "    # Compute the expected Q values\n",
        "    expected_state_action_values = (next_state_values * GAMMA) + reward_batch\n",
        "\n",
        "    # Compute Huber loss\n",
        "    loss = F.smooth_l1_loss(state_action_values, expected_state_action_values.unsqueeze(1))\n",
        "\n",
        "    # Optimize the model\n",
        "    optimizer.zero_grad()\n",
        "    loss.backward()\n",
        "    for param in policy_net.parameters():\n",
        "        param.grad.data.clamp_(-1, 1)\n",
        "    optimizer.step()"
      ],
      "execution_count": 0,
      "outputs": []
    },
    {
      "cell_type": "markdown",
      "metadata": {
        "id": "dyafB9ZFegWv",
        "colab_type": "text"
      },
      "source": [
        "Below, you can find the main training loop. At the beginning we reset\n",
        "the environment and initialize the ``state`` Tensor. Then, we sample\n",
        "an action, execute it, observe the next screen and the reward (always\n",
        "1), and optimize our model once. When the episode ends (our model\n",
        "fails), we restart the loop.\n",
        "\n",
        "Below, `num_episodes` is set small. You should download\n",
        "the notebook and run lot more epsiodes.\n",
        "\n",
        "\n"
      ]
    },
    {
      "cell_type": "code",
      "metadata": {
        "id": "uEDh4yHlegWw",
        "colab_type": "code",
        "outputId": "422b837f-c4e1-47a9-eefc-8d57043c399c",
        "colab": {
          "base_uri": "https://localhost:8080/",
          "height": 1000
        }
      },
      "source": [
        "saved_episodes = []\n",
        "num_episodes = 1000\n",
        "for i_episode in range(num_episodes):\n",
        "    # Initialize the environment and state\n",
        "    env.reset()\n",
        "    last_screen = torch.zeros(env.observation_space.shape, dtype=torch.double).to(device)\n",
        "    last_screen = last_screen.unsqueeze(0)\n",
        "    current_screen = torch.zeros(env.observation_space.shape, dtype=torch.double).to(device)\n",
        "    current_screen = current_screen.unsqueeze(0)\n",
        "    state = current_screen - last_screen\n",
        "    reward_total = 0\n",
        "    cur_episode = []\n",
        "    for t in count():\n",
        "        # Select and perform an action\n",
        "        action = select_action(state)\n",
        "        obs, reward, done, _ = env.step(action.item())\n",
        "        reward_total += reward\n",
        "        reward = torch.tensor([reward], device=device)\n",
        "        cur_episode.append(obs)\n",
        "        # Observe new state\n",
        "        last_screen = current_screen\n",
        "        current_screen = torch.tensor(obs, dtype=torch.double).to(device)\n",
        "        current_screen = current_screen.unsqueeze(0)\n",
        "        if t == 199:\n",
        "          done = True\n",
        "        if not done:\n",
        "            next_state = current_screen - last_screen\n",
        "        else:\n",
        "            next_state = None\n",
        "\n",
        "        # Store the transition in memory\n",
        "        memory.push(state, action, next_state, reward)\n",
        "\n",
        "        # Move to the next state\n",
        "        state = next_state\n",
        "\n",
        "        # Perform one step of the optimization (on the target network)\n",
        "        optimize_model()\n",
        "        if done:\n",
        "            saved_episodes.append(cur_episode)\n",
        "            episode_rewards.append(reward_total)\n",
        "            episode_durations.append(t + 1)\n",
        "            break\n",
        "    if i_episode % 10 == 0:\n",
        "            print(f' {i_episode}: {plot_rewards()}')\n",
        "    # Update the target network\n",
        "    if i_episode % TARGET_UPDATE == 0:\n",
        "        target_net.load_state_dict(policy_net.state_dict())\n",
        "\n",
        "print('Complete')\n",
        "#env.render()\n",
        "#env.close()\n",
        "plt.ioff()\n",
        "plt.show()"
      ],
      "execution_count": 0,
      "outputs": [
        {
          "output_type": "stream",
          "text": [
            " 0: 26.0\n",
            " 10: 20.09090909090909\n",
            " 20: 20.761904761904763\n",
            " 30: 20.35483870967742\n",
            " 40: 21.29268292682927\n",
            " 50: 23.647058823529413\n",
            " 60: 23.40983606557377\n",
            " 70: 23.281690140845072\n",
            " 80: 22.28395061728395\n",
            " 90: 21.087912087912088\n",
            " 100: 20.454545454545453\n",
            " 110: 20.383838383838384\n",
            " 120: 21.515151515151516\n",
            " 130: 22.717171717171716\n",
            " 140: 22.0\n",
            " 150: 22.696969696969695\n",
            " 160: 23.767676767676768\n",
            " 170: 23.77777777777778\n",
            " 180: 27.2020202020202\n",
            " 190: 30.414141414141415\n",
            " 200: 32.64646464646464\n",
            " 210: 33.04040404040404\n",
            " 220: 37.343434343434346\n",
            " 230: 41.36363636363637\n",
            " 240: 48.95959595959596\n",
            " 250: 50.64646464646464\n",
            " 260: 53.78787878787879\n",
            " 270: 66.92929292929293\n",
            " 280: 67.26262626262626\n",
            " 290: 71.36363636363636\n",
            " 300: 85.87878787878788\n",
            " 310: 94.48484848484848\n",
            " 320: 102.83838383838383\n",
            " 330: 110.23232323232324\n",
            " 340: 118.96969696969697\n",
            " 350: 132.75757575757575\n",
            " 360: 138.3030303030303\n",
            " 370: 142.14141414141415\n",
            " 380: 156.53535353535352\n",
            " 390: 166.6969696969697\n",
            " 400: 166.0909090909091\n",
            " 410: 175.17171717171718\n",
            " 420: 178.44444444444446\n",
            " 430: 180.58585858585857\n",
            " 440: 176.010101010101\n",
            " 450: 178.13131313131314\n",
            " 460: 172.31313131313132\n",
            " 470: 159.23232323232324\n",
            " 480: 144.37373737373738\n",
            " 490: 131.3838383838384\n",
            " 500: 129.0\n",
            " 510: 124.77777777777777\n",
            " 520: 120.75757575757575\n",
            " 530: 117.13131313131314\n",
            " 540: 116.07070707070707\n",
            " 550: 116.33333333333333\n",
            " 560: 119.62626262626263\n",
            " 570: 124.08080808080808\n",
            " 580: 136.55555555555554\n",
            " 590: 143.5050505050505\n",
            " 600: 139.75757575757575\n",
            " 610: 134.16161616161617\n",
            " 620: 132.43434343434345\n",
            " 630: 130.72727272727272\n",
            " 640: 131.41414141414143\n",
            " 650: 131.06060606060606\n",
            " 660: 141.3838383838384\n",
            " 670: 146.8181818181818\n",
            " 680: 133.22222222222223\n",
            " 690: 128.7979797979798\n",
            " 700: 136.16161616161617\n",
            " 710: 138.62626262626262\n",
            " 720: 133.45454545454547\n",
            " 730: 128.45454545454547\n",
            " 740: 122.42424242424242\n",
            " 750: 123.73737373737374\n",
            " 760: 115.8989898989899\n",
            " 770: 118.97979797979798\n",
            " 780: 132.78787878787878\n",
            " 790: 134.67676767676767\n",
            " 800: 135.010101010101\n",
            " 810: 125.73737373737374\n",
            " 820: 120.22222222222223\n",
            " 830: 133.57575757575756\n",
            " 840: 142.14141414141415\n",
            " 850: 124.23232323232324\n",
            " 860: 125.64646464646465\n",
            " 870: 127.39393939393939\n",
            " 880: 110.02020202020202\n",
            " 890: 114.3030303030303\n",
            " 900: 107.48484848484848\n",
            " 910: 105.60606060606061\n",
            " 920: 102.5959595959596\n",
            " 930: 101.4949494949495\n",
            " 940: 85.63636363636364\n",
            " 950: 87.28282828282828\n",
            " 960: 74.88888888888889\n",
            " 970: 60.09090909090909\n",
            " 980: 58.323232323232325\n",
            " 990: 48.75757575757576\n",
            "Complete\n"
          ],
          "name": "stdout"
        }
      ]
    },
    {
      "cell_type": "code",
      "metadata": {
        "id": "GkbGZj_binaL",
        "colab_type": "code",
        "outputId": "092ff73e-24f0-4af4-e0a0-e59de924033c",
        "colab": {
          "base_uri": "https://localhost:8080/",
          "height": 85
        }
      },
      "source": [
        "moving_average = []\n",
        "for i in range(len(episode_rewards)):\n",
        "    if i < 50:\n",
        "      moving_average.append(np.mean(episode_rewards[:i]))\n",
        "    else:\n",
        "      moving_average.append(np.mean(episode_rewards[i-50:i]))"
      ],
      "execution_count": 0,
      "outputs": [
        {
          "output_type": "stream",
          "text": [
            "/usr/local/lib/python3.6/dist-packages/numpy/core/fromnumeric.py:3335: RuntimeWarning: Mean of empty slice.\n",
            "  out=out, **kwargs)\n",
            "/usr/local/lib/python3.6/dist-packages/numpy/core/_methods.py:161: RuntimeWarning: invalid value encountered in double_scalars\n",
            "  ret = ret.dtype.type(ret / rcount)\n"
          ],
          "name": "stderr"
        }
      ]
    },
    {
      "cell_type": "code",
      "metadata": {
        "id": "p_xlAF50XrrC",
        "colab_type": "code",
        "outputId": "1ed8bbf0-9ae8-4e74-8b6d-b002c9ef3638",
        "colab": {
          "base_uri": "https://localhost:8080/",
          "height": 279
        }
      },
      "source": [
        "plt.plot(moving_average)\n",
        "plt.ylabel('Reward')\n",
        "plt.xlabel('Episode')\n",
        "plt.show()"
      ],
      "execution_count": 0,
      "outputs": [
        {
          "output_type": "display_data",
          "data": {
            "image/png": "[encoded data removed]",
            "text/plain": [
              "<Figure size 432x288 with 1 Axes>"
            ]
          },
          "metadata": {
            "tags": [],
            "needs_background": "light"
          }
        }
      ]
    },
    {
      "cell_type": "code",
      "metadata": {
        "id": "gh1efJWDX6vF",
        "colab_type": "code",
        "outputId": "baf9a74d-e513-4e2f-9710-465fd1fefb12",
        "colab": {
          "base_uri": "https://localhost:8080/",
          "height": 68
        }
      },
      "source": [
        "print(len(saved_episodes))\n",
        "print(type(saved_episodes[0][0]))\n",
        "print(max([len(x) for x in saved_episodes]))"
      ],
      "execution_count": 0,
      "outputs": [
        {
          "output_type": "stream",
          "text": [
            "1000\n",
            "<class 'numpy.ndarray'>\n",
            "200\n"
          ],
          "name": "stdout"
        }
      ]
    },
    {
      "cell_type": "code",
      "metadata": {
        "id": "NEebnHcs6T49",
        "colab_type": "code",
        "colab": {}
      },
      "source": [
        "\"\"\"output_array = []\n",
        "for i in range(len(saved_episodes)):\n",
        "    temp = np.expand_dims(np.full((200, 4), -999, dtype='float64'), 0)\n",
        "    episode = np.array(saved_episodes[i])\n",
        "    temp[0, :len(saved_episodes[i]), :] = episode\n",
        "    output_array.append(temp)\n",
        "output_array = np.concatenate(output_array)\"\"\"\n",
        "output_array = np.array(saved_episodes, dtype=object)"
      ],
      "execution_count": 0,
      "outputs": []
    },
    {
      "cell_type": "code",
      "metadata": {
        "id": "GV3Edf7rCuog",
        "colab_type": "code",
        "outputId": "a2a08b2e-318d-45fc-9aaa-72abaf4db690",
        "colab": {
          "base_uri": "https://localhost:8080/",
          "height": 34
        }
      },
      "source": [
        "output_array.shape"
      ],
      "execution_count": 0,
      "outputs": [
        {
          "output_type": "execute_result",
          "data": {
            "text/plain": [
              "(1000,)"
            ]
          },
          "metadata": {
            "tags": []
          },
          "execution_count": 12
        }
      ]
    },
    {
      "cell_type": "code",
      "metadata": {
        "id": "ImBtdhXeD-a1",
        "colab_type": "code",
        "colab": {}
      },
      "source": [
        "np.save('saved_episodes.npy', output_array)"
      ],
      "execution_count": 0,
      "outputs": []
    },
    {
      "cell_type": "code",
      "metadata": {
        "id": "lIw2fG4sJ9Ef",
        "colab_type": "code",
        "colab": {}
      },
      "source": [
        ""
      ],
      "execution_count": 0,
      "outputs": []
    }
  ]
}