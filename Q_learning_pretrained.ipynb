{
  "nbformat": 4,
  "nbformat_minor": 0,
  "metadata": {
    "kernelspec": {
      "display_name": "Python 3",
      "language": "python",
      "name": "python3"
    },
    "language_info": {
      "codemirror_mode": {
        "name": "ipython",
        "version": 3
      },
      "file_extension": ".py",
      "mimetype": "text/x-python",
      "name": "python",
      "nbconvert_exporter": "python",
      "pygments_lexer": "ipython3",
      "version": "3.6.6"
    },
    "colab": {
      "name": "Q_learning_pretrained.ipynb",
      "provenance": [],
      "collapsed_sections": [],
      "toc_visible": true
    },
    "accelerator": "GPU"
  },
  "cells": [
    {
      "cell_type": "code",
      "metadata": {
        "id": "sDbKxKTeegWJ",
        "colab_type": "code",
        "colab": {}
      },
      "source": [
        "%matplotlib inline\n",
        "\n",
        "import gym\n",
        "import math\n",
        "import random\n",
        "import numpy as np\n",
        "import matplotlib\n",
        "import matplotlib.pyplot as plt\n",
        "from collections import namedtuple\n",
        "from itertools import count\n",
        "from PIL import Image\n",
        "\n",
        "import torch\n",
        "import torch.nn as nn\n",
        "import torch.optim as optim\n",
        "import torch.nn.functional as F\n",
        "import torchvision.transforms as T\n",
        "\n",
        "from basic_rnn import RNN\n",
        "from transformer_model import TransformerModel\n",
        "\n",
        "env = gym.make('CartPole-v0').unwrapped\n",
        "torch.manual_seed(123)\n",
        "\n",
        "# if gpu is to be used\n",
        "device = torch.device(\"cuda\" if torch.cuda.is_available() else \"cpu\")"
      ],
      "execution_count": 0,
      "outputs": []
    },
    {
      "cell_type": "code",
      "metadata": {
        "id": "3nmdMsdxegWR",
        "colab_type": "code",
        "colab": {}
      },
      "source": [
        "Transition = namedtuple('Transition',\n",
        "                        ('state', 'action', 'next_state', 'reward'))\n",
        "\n",
        "\n",
        "class ReplayMemory(object):\n",
        "\n",
        "    def __init__(self, capacity):\n",
        "        self.capacity = capacity\n",
        "        self.memory = []\n",
        "        self.position = 0\n",
        "\n",
        "    def push(self, *args):\n",
        "        \"\"\"Saves a transition.\"\"\"\n",
        "        if len(self.memory) < self.capacity:\n",
        "            self.memory.append(None)\n",
        "        self.memory[self.position] = Transition(*args)\n",
        "        self.position = (self.position + 1) % self.capacity\n",
        "\n",
        "    def sample(self, batch_size):\n",
        "        return random.sample(self.memory, batch_size)\n",
        "\n",
        "    def __len__(self):\n",
        "        return len(self.memory)"
      ],
      "execution_count": 0,
      "outputs": []
    },
    {
      "cell_type": "code",
      "metadata": {
        "id": "vi0kd4QXSX3u",
        "colab_type": "code",
        "colab": {
          "base_uri": "https://localhost:8080/",
          "height": 102
        },
        "outputId": "3c82f6c1-62ab-49d8-e6aa-b9c029d780db"
      },
      "source": [
        "pretrained_hidden_size = 100\n",
        "NHEAD = 5\n",
        "obs_size = env.observation_space.shape[0]\n",
        "\n",
        "embed_size = math.floor(pretrained_hidden_size / 2)\n",
        "embed_model = RNN(obs_size, pretrained_hidden_size, obs_size)\n",
        "embed_model.load_state_dict(torch.load('rnn_save_state_50.torch'))\n",
        "#embed_size = pretrained_hidden_size\n",
        "#embed_model = TransformerModel(obs_size, obs_size, NHEAD, pretrained_hidden_size, 1, 0)\n",
        "#embed_model.load_state_dict(torch.load('transformer_layer1_hid50.torch'))\n",
        "embed_model.double()\n",
        "embed_model.to(device)\n",
        "embed_model.eval()"
      ],
      "execution_count": 3,
      "outputs": [
        {
          "output_type": "execute_result",
          "data": {
            "text/plain": [
              "RNN(\n",
              "  (rnn): RNN(4, 100, batch_first=True)\n",
              "  (lin1): Linear(in_features=100, out_features=50, bias=True)\n",
              "  (lin2): Linear(in_features=50, out_features=4, bias=True)\n",
              ")"
            ]
          },
          "metadata": {
            "tags": []
          },
          "execution_count": 3
        }
      ]
    },
    {
      "cell_type": "code",
      "metadata": {
        "id": "Oy9t2rqlegWX",
        "colab_type": "code",
        "colab": {}
      },
      "source": [
        "class DQN(nn.Module):\n",
        "\n",
        "    def __init__(self, input_size):\n",
        "        super(DQN, self).__init__()\n",
        "        self.lin1 = nn.Linear(input_size, 100).double()\n",
        "        self.bn1 = nn.LayerNorm(100).double()\n",
        "        self.head = nn.Linear(100, env.action_space.n).double()\n",
        "\n",
        "    def forward(self, x):\n",
        "        x = self.lin1(x)\n",
        "        x = self.bn1(x)\n",
        "        x = F.relu(x)\n",
        "        return self.head(x)"
      ],
      "execution_count": 0,
      "outputs": []
    },
    {
      "cell_type": "code",
      "metadata": {
        "id": "uBJh0e0_egWi",
        "colab_type": "code",
        "colab": {}
      },
      "source": [
        "BATCH_SIZE = 128\n",
        "GAMMA = 0.999\n",
        "EPS_START = 0.9\n",
        "EPS_END = 0.05\n",
        "EPS_DECAY = 200\n",
        "TARGET_UPDATE = 10\n",
        "\n",
        "policy_net = DQN(embed_size).to(device)\n",
        "target_net = DQN(embed_size).to(device)\n",
        "target_net.load_state_dict(policy_net.state_dict())\n",
        "target_net.eval()\n",
        "\n",
        "optimizer = optim.RMSprop(policy_net.parameters())\n",
        "memory = ReplayMemory(1000000)\n",
        "\n",
        "\n",
        "steps_done = 0\n",
        "\n",
        "\n",
        "def select_action(state):\n",
        "    global steps_done\n",
        "    sample = random.random()\n",
        "    eps_threshold = EPS_END + (EPS_START - EPS_END) * \\\n",
        "        math.exp(-1. * steps_done / EPS_DECAY)\n",
        "    steps_done += 1\n",
        "    if sample > eps_threshold:\n",
        "        with torch.no_grad():\n",
        "            temp = policy_net(state)\n",
        "            temp = temp.sum(dim=0)\n",
        "            return temp.max(0)[1].view(1, 1)\n",
        "    else:\n",
        "        return torch.tensor([[random.randrange(2)]], device=device, dtype=torch.long)\n",
        "\n",
        "\n",
        "episode_durations = []\n",
        "episode_rewards = []\n",
        "\n",
        "def plot_durations():\n",
        "    if len(episode_durations) >= 100:\n",
        "      print(np.mean(episode_durations[-99:]))\n",
        "    else:\n",
        "      print(np.mean(episode_durations))\n",
        "\n",
        "def plot_rewards():\n",
        "    if len(episode_rewards) >= 100:\n",
        "      return (np.mean(episode_rewards[-99:]))\n",
        "    else:\n",
        "      return (np.mean(episode_rewards))"
      ],
      "execution_count": 0,
      "outputs": []
    },
    {
      "cell_type": "code",
      "metadata": {
        "id": "B4feFjFKegWr",
        "colab_type": "code",
        "colab": {}
      },
      "source": [
        "def optimize_model():\n",
        "    if len(memory) < BATCH_SIZE:\n",
        "        return\n",
        "    transitions = memory.sample(BATCH_SIZE)\n",
        "    # Transpose the batch (see http://stackoverflow.com/a/19343/3343043 for\n",
        "    # detailed explanation).\n",
        "    batch = Transition(*zip(*transitions))\n",
        "\n",
        "    # Compute a mask of non-final states and concatenate the batch elements\n",
        "    non_final_mask = torch.tensor(tuple(map(lambda s: s is not None,\n",
        "                                          batch.next_state)), device=device, dtype=torch.bool)\n",
        "    non_final_next_states = torch.cat([s for s in batch.next_state\n",
        "                                                if s is not None])\n",
        "    state_batch = torch.cat(batch.state)\n",
        "    action_batch = torch.cat(batch.action)\n",
        "    reward_batch = torch.cat(batch.reward)\n",
        "\n",
        "    # Compute Q(s_t, a) - the model computes Q(s_t), then we select the\n",
        "    # columns of actions taken\n",
        "    state_action_values = policy_net(state_batch).gather(1, action_batch)\n",
        "\n",
        "    # Compute V(s_{t+1}) for all next states.\n",
        "    next_state_values = torch.zeros(BATCH_SIZE, device=device, dtype=torch.double)\n",
        "    next_state_values[non_final_mask] = target_net(non_final_next_states).max(1)[0].detach()\n",
        "    # Compute the expected Q values\n",
        "    expected_state_action_values = (next_state_values * GAMMA) + reward_batch\n",
        "\n",
        "    # Compute Huber loss\n",
        "    loss = F.smooth_l1_loss(state_action_values, expected_state_action_values.unsqueeze(1))\n",
        "\n",
        "    # Optimize the model\n",
        "    optimizer.zero_grad()\n",
        "    loss.backward()\n",
        "    for param in policy_net.parameters():\n",
        "        param.grad.data.clamp_(-1, 1)\n",
        "    optimizer.step()"
      ],
      "execution_count": 0,
      "outputs": []
    },
    {
      "cell_type": "code",
      "metadata": {
        "id": "uEDh4yHlegWw",
        "colab_type": "code",
        "outputId": "f6a1a5dc-73e0-4745-d5b4-a19c2c9836c3",
        "colab": {
          "base_uri": "https://localhost:8080/",
          "height": 1000
        }
      },
      "source": [
        "saved_episodes = []\n",
        "num_episodes = 1000\n",
        "for i_episode in range(num_episodes):\n",
        "    # Initialize the environment and state\n",
        "    env.reset()\n",
        "    last_screen = torch.zeros(embed_size, dtype=torch.double).to(device)\n",
        "    last_screen = last_screen.unsqueeze(0)\n",
        "    current_screen = torch.zeros(embed_size, dtype=torch.double).to(device)\n",
        "    current_screen = current_screen.unsqueeze(0)\n",
        "    episode = torch.tensor([], dtype=torch.double).to(device)\n",
        "    state = current_screen - last_screen\n",
        "    reward_total = 0\n",
        "    cur_episode = []\n",
        "    for t in count():\n",
        "        # Select and perform an action\n",
        "        action = select_action(state)\n",
        "        raw_obs, reward, done, _ = env.step(action.item())\n",
        "        raw_obs = torch.tensor(raw_obs, dtype=torch.double, requires_grad=False).view(1, 1, -1)\n",
        "        raw_obs = raw_obs.to(device)\n",
        "        episode = torch.cat([episode, raw_obs], dim=1).to(device)\n",
        "        embed_obs = embed_model.embed(episode)[0, -1, :]\n",
        "        obs = embed_obs.clone().detach().requires_grad_(True)\n",
        "        reward_total += reward\n",
        "        reward = torch.tensor([reward], device=device)\n",
        "        cur_episode.append(obs)\n",
        "        # Observe new state\n",
        "        last_screen = current_screen\n",
        "        current_screen = obs\n",
        "        current_screen = current_screen.unsqueeze(0)\n",
        "        if len(current_screen.shape) > 2:\n",
        "            raise\n",
        "        if t == 199:\n",
        "          done = True\n",
        "        if not done:\n",
        "            next_state = current_screen - last_screen\n",
        "        else:\n",
        "            next_state = None\n",
        "\n",
        "        # Store the transition in memory\n",
        "        memory.push(state, action, next_state, reward)\n",
        "\n",
        "        # Move to the next state\n",
        "        state = next_state\n",
        "\n",
        "        # Perform one step of the optimization (on the target network)\n",
        "        optimize_model()\n",
        "        if done:\n",
        "            saved_episodes.append(cur_episode)\n",
        "            episode_rewards.append(reward_total)\n",
        "            episode_durations.append(t + 1)\n",
        "            break\n",
        "    if i_episode % 10 == 0:\n",
        "        print(f' {i_episode}: {plot_rewards()}')\n",
        "    # Update the target network\n",
        "    if i_episode % TARGET_UPDATE == 0:\n",
        "        target_net.load_state_dict(policy_net.state_dict())\n",
        "\n",
        "print('Complete')\n",
        "#env.render()\n",
        "#env.close()\n",
        "plt.ioff()\n",
        "plt.show()"
      ],
      "execution_count": 7,
      "outputs": [
        {
          "output_type": "stream",
          "text": [
            " 0: 17.0\n",
            " 10: 23.454545454545453\n",
            " 20: 26.714285714285715\n",
            " 30: 26.870967741935484\n",
            " 40: 27.21951219512195\n",
            " 50: 26.41176470588235\n",
            " 60: 26.19672131147541\n",
            " 70: 24.943661971830984\n",
            " 80: 24.123456790123456\n",
            " 90: 23.384615384615383\n",
            " 100: 23.575757575757574\n",
            " 110: 24.95959595959596\n",
            " 120: 25.04040404040404\n",
            " 130: 25.07070707070707\n",
            " 140: 25.818181818181817\n",
            " 150: 28.727272727272727\n",
            " 160: 31.08080808080808\n",
            " 170: 34.21212121212121\n",
            " 180: 37.09090909090909\n",
            " 190: 39.57575757575758\n",
            " 200: 39.08080808080808\n",
            " 210: 38.15151515151515\n",
            " 220: 38.05050505050505\n",
            " 230: 40.696969696969695\n",
            " 240: 39.14141414141414\n",
            " 250: 37.98989898989899\n",
            " 260: 38.56565656565657\n",
            " 270: 41.303030303030305\n",
            " 280: 43.82828282828283\n",
            " 290: 43.717171717171716\n",
            " 300: 44.55555555555556\n",
            " 310: 44.55555555555556\n",
            " 320: 47.343434343434346\n",
            " 330: 47.878787878787875\n",
            " 340: 47.42424242424242\n",
            " 350: 52.282828282828284\n",
            " 360: 47.72727272727273\n",
            " 370: 45.13131313131313\n",
            " 380: 43.64646464646464\n",
            " 390: 44.95959595959596\n",
            " 400: 48.60606060606061\n",
            " 410: 50.84848484848485\n",
            " 420: 50.505050505050505\n",
            " 430: 50.505050505050505\n",
            " 440: 57.38383838383838\n",
            " 450: 52.21212121212121\n",
            " 460: 56.09090909090909\n",
            " 470: 57.72727272727273\n",
            " 480: 61.74747474747475\n",
            " 490: 61.75757575757576\n",
            " 500: 65.65656565656566\n",
            " 510: 67.38383838383838\n",
            " 520: 65.61616161616162\n",
            " 530: 66.72727272727273\n",
            " 540: 63.17171717171717\n",
            " 550: 62.13131313131313\n",
            " 560: 60.121212121212125\n",
            " 570: 56.83838383838384\n",
            " 580: 50.15151515151515\n",
            " 590: 50.484848484848484\n",
            " 600: 45.44444444444444\n",
            " 610: 42.39393939393939\n",
            " 620: 44.76767676767677\n",
            " 630: 47.21212121212121\n",
            " 640: 50.38383838383838\n",
            " 650: 54.76767676767677\n",
            " 660: 55.24242424242424\n",
            " 670: 60.81818181818182\n",
            " 680: 60.41414141414141\n",
            " 690: 60.85858585858586\n",
            " 700: 65.41414141414141\n",
            " 710: 64.92929292929293\n",
            " 720: 70.13131313131314\n",
            " 730: 68.20202020202021\n",
            " 740: 63.696969696969695\n",
            " 750: 58.535353535353536\n",
            " 760: 60.08080808080808\n",
            " 770: 54.03030303030303\n",
            " 780: 55.484848484848484\n",
            " 790: 52.08080808080808\n",
            " 800: 46.878787878787875\n",
            " 810: 46.02020202020202\n",
            " 820: 39.54545454545455\n",
            " 830: 36.23232323232323\n",
            " 840: 38.343434343434346\n",
            " 850: 43.38383838383838\n",
            " 860: 45.535353535353536\n",
            " 870: 51.91919191919192\n",
            " 880: 49.38383838383838\n",
            " 890: 47.717171717171716\n",
            " 900: 52.60606060606061\n",
            " 910: 53.676767676767675\n",
            " 920: 54.92929292929293\n",
            " 930: 58.60606060606061\n",
            " 940: 55.292929292929294\n",
            " 950: 55.92929292929293\n",
            " 960: 50.92929292929293\n",
            " 970: 48.0\n",
            " 980: 47.484848484848484\n",
            " 990: 48.63636363636363\n",
            "Complete\n"
          ],
          "name": "stdout"
        }
      ]
    },
    {
      "cell_type": "code",
      "metadata": {
        "id": "GkbGZj_binaL",
        "colab_type": "code",
        "outputId": "df3fca55-62da-43b2-da3e-eef185ace601",
        "colab": {
          "base_uri": "https://localhost:8080/",
          "height": 85
        }
      },
      "source": [
        "moving_average = []\n",
        "for i in range(len(episode_rewards)):\n",
        "    if i < 50:\n",
        "      moving_average.append(np.mean(episode_rewards[:i]))\n",
        "    else:\n",
        "      moving_average.append(np.mean(episode_rewards[i-50:i]))"
      ],
      "execution_count": 8,
      "outputs": [
        {
          "output_type": "stream",
          "text": [
            "/usr/local/lib/python3.6/dist-packages/numpy/core/fromnumeric.py:3335: RuntimeWarning: Mean of empty slice.\n",
            "  out=out, **kwargs)\n",
            "/usr/local/lib/python3.6/dist-packages/numpy/core/_methods.py:161: RuntimeWarning: invalid value encountered in double_scalars\n",
            "  ret = ret.dtype.type(ret / rcount)\n"
          ],
          "name": "stderr"
        }
      ]
    },
    {
      "cell_type": "code",
      "metadata": {
        "id": "p_xlAF50XrrC",
        "colab_type": "code",
        "outputId": "dd4eecfc-bbd1-4a96-a82e-0ce051dd1187",
        "colab": {
          "base_uri": "https://localhost:8080/",
          "height": 283
        }
      },
      "source": [
        "plt.plot(moving_average)\n",
        "plt.ylabel('Reward')\n",
        "plt.xlabel('Episode')\n",
        "plt.show()"
      ],
      "execution_count": 9,
      "outputs": [
        {
          "output_type": "display_data",
          "data": {
            "image/png": "[encoded data removed]",
            "text/plain": [
              "<Figure size 432x288 with 1 Axes>"
            ]
          },
          "metadata": {
            "tags": [],
            "needs_background": "light"
          }
        }
      ]
    },
    {
      "cell_type": "code",
      "metadata": {
        "id": "gh1efJWDX6vF",
        "colab_type": "code",
        "outputId": "0733f0db-d0c2-4cbe-8295-c0666c3adea0",
        "colab": {
          "base_uri": "https://localhost:8080/",
          "height": 68
        }
      },
      "source": [
        "print(len(saved_episodes))\n",
        "print(type(saved_episodes[0][0]))\n",
        "print(max([len(x) for x in saved_episodes]))"
      ],
      "execution_count": 10,
      "outputs": [
        {
          "output_type": "stream",
          "text": [
            "1000\n",
            "<class 'torch.Tensor'>\n",
            "200\n"
          ],
          "name": "stdout"
        }
      ]
    },
    {
      "cell_type": "code",
      "metadata": {
        "id": "NEebnHcs6T49",
        "colab_type": "code",
        "colab": {}
      },
      "source": [
        "\"\"\"output_array = []\n",
        "for i in range(len(saved_episodes)):\n",
        "    temp = np.expand_dims(np.full((200, 4), -999, dtype='float64'), 0)\n",
        "    episode = np.array(saved_episodes[i])\n",
        "    temp[0, :len(saved_episodes[i]), :] = episode\n",
        "    output_array.append(temp)\n",
        "output_array = np.concatenate(output_array)\"\"\"\n",
        "output_array = np.array(saved_episodes, dtype=object)"
      ],
      "execution_count": 0,
      "outputs": []
    },
    {
      "cell_type": "code",
      "metadata": {
        "id": "GV3Edf7rCuog",
        "colab_type": "code",
        "colab": {}
      },
      "source": [
        ""
      ],
      "execution_count": 0,
      "outputs": []
    },
    {
      "cell_type": "code",
      "metadata": {
        "id": "ImBtdhXeD-a1",
        "colab_type": "code",
        "colab": {}
      },
      "source": [
        ""
      ],
      "execution_count": 0,
      "outputs": []
    },
    {
      "cell_type": "code",
      "metadata": {
        "id": "lIw2fG4sJ9Ef",
        "colab_type": "code",
        "colab": {}
      },
      "source": [
        ""
      ],
      "execution_count": 0,
      "outputs": []
    }
  ]
}